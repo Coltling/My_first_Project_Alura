{
  "nbformat": 4,
  "nbformat_minor": 0,
  "metadata": {
    "colab": {
      "provenance": [],
      "authorship_tag": "ABX9TyMmvDtOVaGgBuCfIZplYZ/q",
      "include_colab_link": true
    },
    "kernelspec": {
      "name": "python3",
      "display_name": "Python 3"
    },
    "language_info": {
      "name": "python"
    }
  },
  "cells": [
    {
      "cell_type": "markdown",
      "metadata": {
        "id": "view-in-github",
        "colab_type": "text"
      },
      "source": [
        "<a href=\"https://colab.research.google.com/github/Coltling/My_first_Project_Alura/blob/main/Untitled0.ipynb\" target=\"_parent\"><img src=\"https://colab.research.google.com/assets/colab-badge.svg\" alt=\"Open In Colab\"/></a>"
      ]
    },
    {
      "cell_type": "code",
      "execution_count": 14,
      "metadata": {
        "id": "yTpb7UZ5z0Wz"
      },
      "outputs": [],
      "source": [
        "!pip install -q -U google-generativeai"
      ]
    },
    {
      "cell_type": "code",
      "source": [
        "import requests\n",
        "from bs4 import BeautifulSoup\n",
        "import google.generativeai as genai\n",
        "from google.colab import userdata\n",
        "\n",
        "# Configurando Generative AI API\n",
        "api_key = userdata.get(\"SECRET_KEY\")\n",
        "genai.configure(api_key=api_key)\n",
        "generation_config = {\n",
        "    \"candidate_count\" : 1,\n",
        "    \"temperature\" : 0,\n",
        "}\n",
        "safety_settings = {\n",
        "    \"HARASSMENT\" : \"BLOCK_NONE\",\n",
        "    \"HATE\" : \"BLOCK_NONE\",\n",
        "    \"SEXUAL\" : \"BLOCK_NONE\",\n",
        "    \"DANGEROUS\" : \"BLOCK_NONE\",\n",
        "}\n",
        "model = genai.GenerativeModel(model_name=\"gemini-1.0-pro\",\n",
        "                              generation_config=generation_config,\n",
        "                              safety_settings=safety_settings)\n",
        "\n",
        "# Função para interagir com o chatbot\n",
        "def chatbot():\n",
        "    print(\"Bem-vindo ao Chatbot de nome de livros!\")\n",
        "    print(\"Digite 'sair' para sair.\")\n",
        "\n",
        "    chat = model.start_chat(history=[])\n",
        "    chat.send_message(\"encontre o nome correto do livro ao qual me refiro, e me de sempre o nome do livro e o autor neste formato sem nenhum descritor: Livro, Autor\")\n",
        "\n",
        "    while True:\n",
        "        user_input = input(\"Digite o livro que deseja pesquisar: \")\n",
        "        if user_input.lower() == 'sair':\n",
        "            print(\"Até logo!\")\n",
        "            break\n",
        "        else:\n",
        "            response = chat.send_message(user_input)\n",
        "            print(response.text)\n",
        "chatbot()"
      ],
      "metadata": {
        "id": "50jMpPH80CzG",
        "colab": {
          "base_uri": "https://localhost:8080/",
          "height": 199
        },
        "outputId": "a20f82ee-254d-4219-9357-8666ba8512db"
      },
      "execution_count": 15,
      "outputs": [
        {
          "output_type": "stream",
          "name": "stdout",
          "text": [
            "Bem-vindo ao Chatbot de nome de livros!\n",
            "Digite 'sair' para sair.\n",
            "Digite o livro que deseja pesquisar: dança da  morte do king\n",
            "**Dança da Morte**, Stephen King\n",
            "Digite o livro que deseja pesquisar: o segundo livro do jogo de tronos\n",
            "**A Fúria dos Reis**, George R. R. Martin\n",
            "Digite o livro que deseja pesquisar: o livro mais famoso do arthur c clarke\n",
            "**2001: Uma Odisseia no Espaço**, Arthur C. Clarke\n",
            "Digite o livro que deseja pesquisar: sair\n",
            "Até logo!\n"
          ]
        }
      ]
    }
  ]
}